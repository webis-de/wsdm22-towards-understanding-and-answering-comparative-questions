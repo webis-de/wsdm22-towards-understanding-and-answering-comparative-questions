{
 "cells": [
  {
   "cell_type": "code",
   "execution_count": null,
   "metadata": {},
   "outputs": [],
   "source": [
    "import glob \n",
    "from sklearn.metrics import classification_report\n",
    "import pandas as pd\n",
    "\n",
    "true_df = pd.read_csv('PATH/dataset.tsv', sep='\\t') # specifies the dataset with ground truth labels\n",
    "\n",
    "path = 'PATH/dir/' # specifies the directory where the results from the classifier are stored\n",
    "                   # 10 dataframes for each cross-validation split\n",
    "\n",
    "all_files = glob.glob(path + \"/*.tsv\")\n",
    "dataframes = []\n",
    "\n",
    "for i in range(10):\n",
    "    for filename in all_files:\n",
    "        if str(i+1) in filename.split('-05')[1] and str(i+1) == filename.split('-05')[1].split('_')[1].split('.')[0]:\n",
    "            df = pd.read_csv(filename, sep='\\t', index_col=None, header=0)\n",
    "            dataframes.append(df)\n",
    "\n",
    "result_df = pd.concat(dataframes, axis=0, ignore_index=True)\n",
    "result_df.to_csv(path + 'result.tsv', sep='\\t', index=None)\n",
    "\n",
    "y_true, y_pred = evaluate_as_is(true_df, result_df)\n",
    "y_true, y_pred = [item for sublist in y_true for item in sublist], [item for sublist in y_pred for item in sublist]\n",
    "\n",
    "print(classification_report(y_true, y_pred))\n",
    "\n",
    "y_true, y_pred = evaluate_as_pred_correction(true_df, result_df)\n",
    "y_true, y_pred = [item for sublist in y_true for item in sublist], [item for sublist in y_pred for item in sublist]\n",
    "print(classification_report(y_true, y_pred))"
   ]
  }
 ],
 "metadata": {
  "kernelspec": {
   "display_name": "Python 3",
   "language": "python",
   "name": "python3"
  },
  "language_info": {
   "codemirror_mode": {
    "name": "ipython",
    "version": 3
   },
   "file_extension": ".py",
   "mimetype": "text/x-python",
   "name": "python",
   "nbconvert_exporter": "python",
   "pygments_lexer": "ipython3",
   "version": "3.8.10"
  }
 },
 "nbformat": 4,
 "nbformat_minor": 4
}
