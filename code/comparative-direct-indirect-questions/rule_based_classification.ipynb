{
 "cells": [
  {
   "cell_type": "markdown",
   "metadata": {},
   "source": [
    "### Read the data"
   ]
  },
  {
   "cell_type": "code",
   "execution_count": null,
   "metadata": {},
   "outputs": [],
   "source": [
    "import pandas as pd\n",
    "from sklearn.metrics import classification_report\n",
    "from rules import direct, indirect\n",
    "\n",
    "data_df = pd.read_csv('PATH/data.tsv', sep='\\t') # specifies the dataset with direct / indirect questions"
   ]
  },
  {
   "cell_type": "code",
   "execution_count": null,
   "metadata": {},
   "outputs": [],
   "source": [
    "questions_clean = train_df.clean.to_list()\n",
    "y_true = train_df.direct.to_list()\n",
    "ids = train_df.id.to_list()\n",
    "pos = train_df.pos.to_list()"
   ]
  },
  {
   "cell_type": "markdown",
   "metadata": {},
   "source": [
    "### Apply classification rules"
   ]
  },
  {
   "cell_type": "code",
   "execution_count": null,
   "metadata": {},
   "outputs": [],
   "source": [
    "y_pred = list()\n",
    "\n",
    "for t, q, p, i in zip(y_true, questions_clean, pos, ids):\n",
    "    if indirect(q, p): y_pred.append(0)\n",
    "    elif direct(q, p): y_pred.append(1)\n",
    "    else: \n",
    "        ids_hard.append(i)\n",
    "        y_pred.append(2)\n",
    "        \n",
    "print(classification_report(y_true, y_pred, digits=4, zero_division=False))"
   ]
  }
 ],
 "metadata": {
  "kernelspec": {
   "display_name": "Python 3",
   "language": "python",
   "name": "python3"
  },
  "language_info": {
   "codemirror_mode": {
    "name": "ipython",
    "version": 3
   },
   "file_extension": ".py",
   "mimetype": "text/x-python",
   "name": "python",
   "nbconvert_exporter": "python",
   "pygments_lexer": "ipython3",
   "version": "3.8.10"
  }
 },
 "nbformat": 4,
 "nbformat_minor": 4
}
