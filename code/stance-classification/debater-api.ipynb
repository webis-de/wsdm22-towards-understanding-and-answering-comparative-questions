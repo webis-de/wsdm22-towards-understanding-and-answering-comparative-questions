{
 "cells": [
  {
   "cell_type": "markdown",
   "metadata": {},
   "source": [
    "#### This notebook implements the baseline stance classification using the Debater API available at https://early-access-program.debater.res.ibm.com/terms?#pro_con. To use the service you should request the API-key at https://early-access-program.debater.res.ibm.com"
   ]
  },
  {
   "cell_type": "code",
   "execution_count": null,
   "metadata": {},
   "outputs": [],
   "source": []
  },
  {
   "cell_type": "code",
   "execution_count": null,
   "metadata": {},
   "outputs": [],
   "source": [
    "import pandas as pd\n",
    "from tqdm import tqdm\n",
    "from debater_python_api.api.debater_api import DebaterApi\n",
    "import time\n",
    "\n",
    "debater_api = DebaterApi('YOUR-API-KEY')\n",
    "pro_con_client = debater_api.get_pro_con_client()"
   ]
  },
  {
   "cell_type": "code",
   "execution_count": null,
   "metadata": {},
   "outputs": [],
   "source": [
    "# you can calculate the pro/con score for the complete dataset before splitting into train/test, or you can apply it on the two pre-defined splits\n",
    "\n",
    "data_df = pd.read_csv('DATASET.tsv', sep='\\t', encoding='utf-8') # specify the stance dataset"
   ]
  },
  {
   "cell_type": "markdown",
   "metadata": {},
   "source": [
    "#### Object as is"
   ]
  },
  {
   "cell_type": "code",
   "execution_count": null,
   "metadata": {},
   "outputs": [],
   "source": [
    "%%time\n",
    "\n",
    "# The API classifier return a single score from -1 (strong con) to +1 (strong pro)\n",
    "# We will request the API twice once for (object_1, answer) and once for (object_2, answer)\n",
    "# This scores are further packed in tuples on which another classifier is fit to predict the final stance label\n",
    "\n",
    "ids, objects_0, objects_1, scores0, scores1, stances = list(), list(), list(), list(), list(), list()\n",
    "\n",
    "for _, row in data_df.iterrows():\n",
    "    while True:\n",
    "        try:\n",
    "            stances.append(row.answer_stance)\n",
    "            ids.append(row.id)\n",
    "            topic = row.object_1\n",
    "            objects_0.append(topic)\n",
    "            sentences = [row.answer]\n",
    "            sentence_topic_dicts = [{'sentence' : sentence, 'topic' : topic} for sentence in sentences]\n",
    "            scores = pro_con_client.run(sentence_topic_dicts)\n",
    "            for i in range(len(sentences)):\n",
    "                scores0.append(scores[i])\n",
    "            time.sleep(2)\n",
    "            topic = row.object_2\n",
    "            objects_1.append(topic)\n",
    "            sentences = [row.answer]\n",
    "            sentence_topic_dicts = [{'sentence' : sentence, 'topic' : topic} for sentence in sentences]\n",
    "            scores = pro_con_client.run(sentence_topic_dicts)\n",
    "            for i in range(len(sentences)):\n",
    "                scores1.append(scores[i])\n",
    "            time.sleep(2)\n",
    "        except:\n",
    "            time.sleep(60)\n",
    "            continue\n",
    "        break"
   ]
  },
  {
   "cell_type": "code",
   "execution_count": null,
   "metadata": {},
   "outputs": [],
   "source": [
    "df_out = pd.DataFrame({'id': ids, 'object_0': objects_0, 'object_1': objects_1, 'score_0': scores0, 'score_1': scores1, 'answer_stance': stances})\n",
    "df_out.head()"
   ]
  },
  {
   "cell_type": "code",
   "execution_count": null,
   "metadata": {},
   "outputs": [],
   "source": [
    "# save the results\n",
    "df_out.to_csv('result_object.tsv', sep='\\t', index=False)"
   ]
  },
  {
   "cell_type": "markdown",
   "metadata": {},
   "source": [
    "#### Masked objects"
   ]
  },
  {
   "cell_type": "code",
   "execution_count": null,
   "metadata": {},
   "outputs": [],
   "source": [
    "%%time\n",
    "ids, objects_0, objects_1, scores0, scores1, stances = list(), list(), list(), list(), list(), list()\n",
    "\n",
    "for _, row in data_df.iterrows():\n",
    "    while True:\n",
    "        try:\n",
    "            stances.append(row.answer_stance)\n",
    "            ids.append(row.id)\n",
    "            topic = '[FIRST_ENTITY]' # use '[FIRST_ENTITY] is good' for a sentiment prompt\n",
    "            objects_0.append(topic)\n",
    "            sentences = [row.masked_all]\n",
    "            sentence_topic_dicts = [{'sentence' : sentence, 'topic' : topic} for sentence in sentences]\n",
    "            scores = pro_con_client.run(sentence_topic_dicts)\n",
    "            for i in range(len(sentences)):\n",
    "                scores0.append(scores[i])\n",
    "            time.sleep(2)\n",
    "            topic = '[SECOND_ENTITY]' # use '[SECOND_ENTITY] is good' for a sentiment prompt\n",
    "            objects_1.append(topic)\n",
    "            sentences = [row.masked_all]\n",
    "            sentence_topic_dicts = [{'sentence' : sentence, 'topic' : topic} for sentence in sentences]\n",
    "            scores = pro_con_client.run(sentence_topic_dicts)\n",
    "            for i in range(len(sentences)):\n",
    "                scores1.append(scores[i])\n",
    "            time.sleep(2)\n",
    "        except:\n",
    "            time.sleep(60)\n",
    "            continue\n",
    "        break"
   ]
  },
  {
   "cell_type": "code",
   "execution_count": null,
   "metadata": {},
   "outputs": [],
   "source": [
    "df_out = pd.DataFrame({'id': ids, 'object_0': objects_0, 'object_1': objects_1, 'score_0': scores0, 'score_1': scores1, 'answer_stance': stances})\n",
    "df_out.head()"
   ]
  },
  {
   "cell_type": "code",
   "execution_count": null,
   "metadata": {},
   "outputs": [],
   "source": [
    "df_out.to_csv('result_masked.tsv', sep='\\t', index=False)"
   ]
  }
 ],
 "metadata": {
  "kernelspec": {
   "display_name": "Python 3",
   "language": "python",
   "name": "python3"
  },
  "language_info": {
   "codemirror_mode": {
    "name": "ipython",
    "version": 3
   },
   "file_extension": ".py",
   "mimetype": "text/x-python",
   "name": "python",
   "nbconvert_exporter": "python",
   "pygments_lexer": "ipython3",
   "version": "3.8.10"
  }
 },
 "nbformat": 4,
 "nbformat_minor": 4
}
