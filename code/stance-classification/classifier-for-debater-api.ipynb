{
 "cells": [
  {
   "cell_type": "markdown",
   "metadata": {},
   "source": [
    "#### This notebooks implements the baseline stance classifier based on the pro/con scores produced with the debater-api.ipynb notebook. To use this notebook you should beforehand calculate and save the pro/con scores"
   ]
  },
  {
   "cell_type": "code",
   "execution_count": null,
   "metadata": {},
   "outputs": [],
   "source": [
    "import pandas as pd\n",
    "from sklearn.svm import LinearSVC\n",
    "from sklearn.tree import DecisionTreeClassifier\n",
    "from sklearn.metrics import classification_report, f1_score\n",
    "import matplotlib.pyplot as plt\n",
    "from tqdm import tqdm\n",
    "import warnings\n",
    "\n",
    "warnings.filterwarnings('ignore')"
   ]
  },
  {
   "cell_type": "code",
   "execution_count": null,
   "metadata": {},
   "outputs": [],
   "source": [
    "data_df = pd.read_csv('result_masked.tsv', sep='\\t') # read the results from the debater-api.ipynb notebook\n",
    "\n",
    "# you can create the train/test split or read them in dataframes if you calculated the pro/con scores separetely\n",
    "# train_df, test_df = train_test_split(data_df, test_size=0.2) # create train/test splits"
   ]
  },
  {
   "cell_type": "code",
   "execution_count": null,
   "metadata": {},
   "outputs": [],
   "source": [
    "def prepare_vectors(df):\n",
    "    out = list()\n",
    "    for _, row in df.iterrows():\n",
    "        out.append((row.score_0, row.score_1))\n",
    "    return np.array(out)\n",
    "\n",
    "X_train = prepare_vectors(train_df)\n",
    "y_train = np.array(train_df.answer_stance.tolist())\n",
    "X_test = prepare_vectors(test_df)\n",
    "y_test = np.array(test_df.answer_stance.tolist())"
   ]
  },
  {
   "cell_type": "markdown",
   "metadata": {},
   "source": [
    "#### SVM classifier"
   ]
  },
  {
   "cell_type": "code",
   "execution_count": null,
   "metadata": {},
   "outputs": [],
   "source": [
    "clf = LinearSVC()\n",
    "clf.fit(X_train, y_train)\n",
    "y_pred = clf.predict(X_test)\n",
    "\n",
    "print(classification_report(y_true=y_test, y_pred=y_pred, digits=3, zero_division=False))\n",
    "print('Micro-avg. F1: {:.3f}'.format(f1_score(y_true=y_test, y_pred=y_pred, average= 'micro', zero_division=False)))"
   ]
  }
 ],
 "metadata": {
  "kernelspec": {
   "display_name": "Python 3",
   "language": "python",
   "name": "python3"
  },
  "language_info": {
   "codemirror_mode": {
    "name": "ipython",
    "version": 3
   },
   "file_extension": ".py",
   "mimetype": "text/x-python",
   "name": "python",
   "nbconvert_exporter": "python",
   "pygments_lexer": "ipython3",
   "version": "3.8.10"
  }
 },
 "nbformat": 4,
 "nbformat_minor": 4
}
